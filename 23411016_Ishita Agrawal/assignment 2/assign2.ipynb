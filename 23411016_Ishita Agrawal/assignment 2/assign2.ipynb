{
 "cells": [
  {
   "cell_type": "code",
   "execution_count": null,
   "metadata": {},
   "outputs": [],
   "source": []
  },
  {
   "cell_type": "markdown",
   "metadata": {},
   "source": [
    "Suppose you have a dataset of observations following a Gaussian distribution\n",
    "with an unknown mean and variance N (μ, σ2). How would you use MLE to\n",
    "estimate the parameters of the Gaussian distribution? Write a Python code for\n",
    "the same as well by generating a random dataset of 1000 observations.\n",
    "\n",
    "let the observations be x1, x2,...,xn .\n",
    "\n",
    "Likelihood function:\n",
    "L($\\mu$ , $\\sum\\limits _{i=1} ^{n} x_{i}$ ) = arg max ( product(p($\\mu \\sum\\limits _{i=1} ^{n} x_{i}$)))\n",
    "log(L(mu,sig|x1,..,xn) )= arg max (summation (p(mu, sig|xi )))\n",
    "\n",
    "in order to find max \n",
    "\n",
    "\n",
    "x_{1},...,x_{n}"
   ]
  },
  {
   "cell_type": "markdown",
   "metadata": {},
   "source": [
    "SOLUTION 2 \n",
    "\n",
    "Probability density function for gaussian distribution is  p($\\mu , \\sigma | x) = \\frac{1}{\\sigma\\sqrt{2\\pi}} e^-\\frac{(x-\\mu)^2}{2 \\sigma^2} $                    (1.1)\n",
    "<br>\n",
    "Likelihood function for datapoints $x_1 , x_2 , ... , x_n $ is : <br>\n",
    "\n",
    "$ L(\\mu , \\sigma | x_1 , x_2 , ... , x_n) = \\prod_{i=1} ^{n} p (\\mu,\\sigma | x_i)$                  (1.2)\n",
    "\n",
    "Finding maximum likelihood function(MLE):<br><br>\n",
    "Taking log on both sides in equation (1.2) to ease the process <br>\n",
    "$ Log[L(\\mu , \\sigma | x_1 , x_2 , ... , x_n)] = \\sum_{i=1}^{n} log[p(\\mu, \\sigma|x_i)] $ <br>\n",
    "\n",
    "substituting value of p($\\mu , \\sigma |x$) from eqn (1.1)\n",
    "\n",
    "Log[L($\\mu , \\sigma | x_1 ,...,x_n )] = - \\frac{n}{2}Log(2\\pi) - nLog(\\sigma) - \\frac{(x_1 - \\mu)^2}{2\\sigma^2} - ... - \\frac{(x_n - \\mu)^2}{2\\sigma^2} $ <br><br>\n",
    "\n",
    "differenting Log[L($\\mu , \\sigma | x_1 ,...,x_n $)] with respect to $\\mu $, keeping $\\sigma$ constant : \n",
    "\n",
    "$ \\frac{\\partial Log[L(\\mu , \\sigma | x_1 ,...,x_n )]}{\\partial \\mu} $ = $\\frac{1}{\\sigma^2}[(x_1,...,x_n) - n\\mu]$\n",
    "\n",
    "$ \\frac{\\partial Log[L(\\mu , \\sigma | x_1 ,...,x_n )]}{\\partial \\sigma} $ = $ -\\frac{n}{\\sigma} + \\frac{(x_1 - \\mu^2)}{\\sigma^3} + ... + \\frac{(x_n - \\mu)^2}{\\sigma^3}$\n",
    "\n",
    "Inorder to maximize liklihood function: <br> \n",
    "$ \\frac{\\partial Log[L(\\mu , \\sigma | x_1 ,...,x_n )]}{\\partial \\mu} $ = 0 and  $ \\frac{\\partial Log[L(\\mu , \\sigma | x_1 ,...,x_n )]}{\\partial \\sigma} $ = 0\n",
    "<br><br>\n",
    "thus we get :<br><br>\n",
    "$$ \\mu = \\frac{x_1 , x_2,...,x_n}{n}$$ \n",
    "$$ \\sigma = \\sqrt{\\frac{(x_1 - \\mu)^2 + ... + (x_n - \\mu)^2}{n}}$$"
   ]
  },
  {
   "cell_type": "code",
   "execution_count": 9,
   "metadata": {},
   "outputs": [
    {
     "name": "stdout",
     "output_type": "stream",
     "text": [
      "Shape of the data: (10,)\n",
      "[ 0.10801212 -0.80241402  0.25266188 -0.29886013 -0.14904924 -1.74040736\n",
      "  3.38537716  0.67518767 -0.98031402  1.64664202]\n"
     ]
    }
   ],
   "source": [
    "import numpy as np\n",
    "\n",
    "observation = 10\n",
    "\n",
    "data = np.random.randn(observation)\n",
    "\n",
    "\n",
    "print(\"Shape of the data:\", data.shape)\n",
    "print( data)"
   ]
  },
  {
   "cell_type": "code",
   "execution_count": null,
   "metadata": {},
   "outputs": [],
   "source": []
  },
  {
   "cell_type": "code",
   "execution_count": null,
   "metadata": {},
   "outputs": [],
   "source": []
  },
  {
   "cell_type": "code",
   "execution_count": null,
   "metadata": {},
   "outputs": [],
   "source": []
  }
 ],
 "metadata": {
  "kernelspec": {
   "display_name": "Python 3",
   "language": "python",
   "name": "python3"
  },
  "language_info": {
   "codemirror_mode": {
    "name": "ipython",
    "version": 3
   },
   "file_extension": ".py",
   "mimetype": "text/x-python",
   "name": "python",
   "nbconvert_exporter": "python",
   "pygments_lexer": "ipython3",
   "version": "3.12.1"
  }
 },
 "nbformat": 4,
 "nbformat_minor": 2
}
